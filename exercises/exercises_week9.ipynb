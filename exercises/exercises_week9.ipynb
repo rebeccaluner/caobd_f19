{
 "cells": [
  {
   "cell_type": "markdown",
   "metadata": {},
   "source": [
    "# Week 9"
   ]
  },
  {
   "cell_type": "markdown",
   "metadata": {},
   "source": [
    "## Outline"
   ]
  },
  {
   "cell_type": "markdown",
   "metadata": {
    "ExecuteTime": {
     "end_time": "2017-08-23T15:30:03.634114Z",
     "start_time": "2017-08-23T15:30:03.629294Z"
    }
   },
   "source": [
    "Today you are going to be reading and writing and reading and writing. First you will pick a case to work with, then you will **read** about it. Then you will **write** a short essay about it and submit it to something called a Peergrade Live Session. Then you will **read** two of your fellow students' *anonymous* essays and **write** some feedback to each of them.\n",
    "\n",
    "You can choose between four different cases (see below) and if you have something else you want to write about you are welcome to do that. For each case I have suggested some sources of information, although you will probably want to google and youtube a bit yourself to get a better understanding. I have also suggested some things you can put in your essay if you get stuck, but these are only suggestions and you can probably imagine many better things to touch upon.\n",
    "\n",
    "**Your main objective is to educate your readers**. Assume they don't know much, establish the important concepts and debate the topic. Reveal your opinion and convince the reader to agree with you if you feel strongly about it. Weigh viewpoints and discuss them if you feel it's less straight forward to draw a moral/legal/ethical conclusion. Part of the reason why I pose this exercise is that I want to learn something from you.\n",
    "\n",
    "Get creative, there are no grades and you submit anonymously."
   ]
  },
  {
   "cell_type": "markdown",
   "metadata": {},
   "source": [
    "### Format"
   ]
  },
  {
   "cell_type": "markdown",
   "metadata": {},
   "source": [
    "* Save your essay as a PDF file.\n",
    "* The document should be anonymous.\n",
    "* You can write a long or a short essay. I recommend 0.5-1 page (300-600 words).\n",
    "* You are short for time, so don't worry about typos and elegant phrasing.\n",
    "* Submit to Peergrade Live whenever you are done. **Deadline is 15:40**."
   ]
  },
  {
   "cell_type": "markdown",
   "metadata": {},
   "source": [
    "## Exercises"
   ]
  },
  {
   "cell_type": "markdown",
   "metadata": {},
   "source": [
    "### Ex. 1: Privacy protection"
   ]
  },
  {
   "cell_type": "markdown",
   "metadata": {},
   "source": [
    "Companies are hording personal information like crazy. [And private companies get hacked](https://en.wikipedia.org/wiki/Ashley_Madison_data_breach). Luckily, smart people are constantly working on ways to secure personal data. Read about Apple's use differential privacy and educate yourself a bit about the EU's new data protection laws:\n",
    "\n",
    "* [Apple's *differential privacy* is about collecting your data—but not *your* data](https://www.wired.com/2016/06/apples-differential-privacy-collecting-data/)\n",
    "* [The GDPR](https://eugdpr.org/)\n",
    "\n",
    "*Things you can but definitely don't have to put in your essay:*\n",
    "* What the new data protection laws of EU are all about. What do they mean for big companies like Facebook and Google? For individuals?\n",
    "* A short (possibly technical) explanation of how differential privacy works, why it is useful for individuals and what limitations it has, and problems it may cause.\n",
    "* Can differential privacy address the demands set forth by the EU? Am I just putting unrelated things into one assignment to confuse you? Are there other technologies that can be used?"
   ]
  },
  {
   "cell_type": "markdown",
   "metadata": {},
   "source": [
    "### Ex. 2: Information retrieval and data journalism"
   ]
  },
  {
   "cell_type": "markdown",
   "metadata": {},
   "source": [
    "Journalism is increasingly becoming an exercise in getting your hands on the right data. *Scraping* has therefore become a standard tool for many journalists; but should you be allowed to scrape anything that's on the web? Read two short blog posts by data journalist Nael Shiab:\n",
    "\n",
    "* [Web Scraping: A Journalist’s Guide](https://gijn.org/2015/08/11/web-scraping-a-journalists-guide/)\n",
    "* [On the Ethics of Web Scraping and Data Journalism](https://gijn.org/2015/08/12/on-the-ethics-of-web-scraping-and-data-journalism/)\n",
    "\n",
    "*Things you can but definitely don't have to put in your essay:*\n",
    "* An account of how scraping is used in journalism today\n",
    "* A description of some of the technical tricks that data journalists employ, as well as how providers handle this issue (what is a `robots.txt` file?).\n",
    "* Where you see this going in the future.\n",
    "* References to other material. Google or YouTube the topic."
   ]
  },
  {
   "cell_type": "markdown",
   "metadata": {},
   "source": [
    "### Ex. 3: Survellience and citizen rights"
   ]
  },
  {
   "cell_type": "markdown",
   "metadata": {
    "collapsed": true,
    "run_control": {
     "frozen": false,
     "read_only": false
    }
   },
   "source": [
    "A Russian startup lets you take a picture of someone's face and get a link to their [VKontakte](https://vk.com/) profile (Russian facebook equivalent) and a young artist decides to demonstrate how creepy that actually is. Read about it here:\n",
    "\n",
    "* [Face recognition app taking Russia by storm may bring end to public anonymity](https://www.theguardian.com/technology/2016/may/17/findface-face-recognition-app-end-public-anonymity-vkontakte)\n",
    "* [The Russian Art of Meta-Stalking](https://advox.globalvoices.org/2016/04/07/the-russian-art-of-meta-stalking/)\n",
    "* [End of anonymity: Identifying random fellow travelers](https://birdinflight.com/ru/vdohnovenie/fotoproect/06042016-face-big-data.html). (This is the art project in question. If you don't speak Russian, your browser can probably translate the text for you. Otherwise the images speak for themselves.)\n",
    "\n",
    "*Things you can but definitely don't have to put in your essay:*\n",
    "* A description of how this crazy thing works. Why is it possible to do something like this with VKontakte but not with Facebook?\n",
    "* What was the artist's motivation? Was the artist doing right or wrong, pursuing such a project?\n",
    "* Some reflection on the moral implications. If not *FindFace*, would someone else have done it?\n",
    "* References to morally similar issues in the science and technology. Maybe watch an awkward dating scene at 2:50 in [this short film](https://vimeo.com/46304267)."
   ]
  },
  {
   "cell_type": "markdown",
   "metadata": {},
   "source": [
    "### Ex. 4: Content generation and promotion on the Internet\n",
    "\n",
    "Kids are sucked into YouTube and keep quiet so the grownups can talk. This seemingly innocuous phenomenon has created an enormous market space where billions of dollars are made in ad revenue. Since kids are pretty uncritical viewers and content quality is largely unregulated, recommender algorithms stand in (poorly) as parental guides. Read James Bridle's Medium article on the topic:\n",
    "\n",
    "* [Something is wrong on the internet](https://medium.com/@jamesbridle/something-is-wrong-on-the-internet-c39c471271d2). (Read it in an incognito window if you don't want YouTube to start recommending you weird shit.)\n",
    "\n",
    "*Things you can but definitely don't have to put in your essay:*\n",
    "* Maybe start with some kind of summary of James' article. What problem is he presenting and what is his stance on the topic. What is 'age of algorithmic discovery'? How do trolls fit in here?\n",
    "* Do you share his concerns? Maybe kids don't scar that easily.\n",
    "* Does this fit in to a more general problem we have with the Internet and how it is shaping human behavior these days?"
   ]
  },
  {
   "cell_type": "markdown",
   "metadata": {},
   "source": [
    "### Ex. x: Choose your own case!"
   ]
  }
 ],
 "metadata": {
  "kernelspec": {
   "display_name": "Python 3",
   "language": "python",
   "name": "python3"
  },
  "language_info": {
   "codemirror_mode": {
    "name": "ipython",
    "version": 3
   },
   "file_extension": ".py",
   "mimetype": "text/x-python",
   "name": "python",
   "nbconvert_exporter": "python",
   "pygments_lexer": "ipython3",
   "version": "3.7.2"
  },
  "nav_menu": {},
  "toc": {
   "base_numbering": 1,
   "nav_menu": {},
   "number_sections": false,
   "sideBar": true,
   "skip_h1_title": false,
   "title_cell": "Table of Contents",
   "title_sidebar": "Contents",
   "toc_cell": false,
   "toc_position": {},
   "toc_section_display": "block",
   "toc_window_display": true
  },
  "varInspector": {
   "cols": {
    "lenName": 16,
    "lenType": 16,
    "lenVar": 40
   },
   "kernels_config": {
    "python": {
     "delete_cmd_postfix": "",
     "delete_cmd_prefix": "del ",
     "library": "var_list.py",
     "varRefreshCmd": "print(var_dic_list())"
    },
    "r": {
     "delete_cmd_postfix": ") ",
     "delete_cmd_prefix": "rm(",
     "library": "var_list.r",
     "varRefreshCmd": "cat(var_dic_list()) "
    }
   },
   "types_to_exclude": [
    "module",
    "function",
    "builtin_function_or_method",
    "instance",
    "_Feature"
   ],
   "window_display": false
  }
 },
 "nbformat": 4,
 "nbformat_minor": 1
}
